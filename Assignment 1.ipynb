{
 "cells": [
  {
   "cell_type": "code",
   "execution_count": 1,
   "id": "16337f93-b06e-4eac-a8b4-afae238a1b8b",
   "metadata": {},
   "outputs": [
    {
     "name": "stdout",
     "output_type": "stream",
     "text": [
      "Top 5 most frequent words: [('the', 4), ('country', 3), ('is', 2), ('in', 2), ('most', 2)]\n"
     ]
    }
   ],
   "source": [
    "from collections import Counter\n",
    "import re\n",
    "\n",
    "def top_five_words(file_path):\n",
    "    with open(file_path, 'r', encoding='utf-8') as file:\n",
    "        text = file.read().lower()  \n",
    "        words = re.findall(r'\\b\\w+\\b', text)  \n",
    "        word_counts = Counter(words)  \n",
    "        return word_counts.most_common(5)  \n",
    "\n",
    "def main():\n",
    "    file_path = \"sample.txt\"  \n",
    "    top_words = top_five_words(file_path)\n",
    "    print(\"Top 5 most frequent words:\", top_words)\n",
    "\n",
    "if __name__ == \"__main__\":\n",
    "    main()\n"
   ]
  },
  {
   "cell_type": "code",
   "execution_count": 2,
   "id": "37aea7cc-cb5f-457e-acb1-1be2514de5f3",
   "metadata": {},
   "outputs": [
    {
     "name": "stdout",
     "output_type": "stream",
     "text": [
      "Even and Odd counts: {'even': 5, 'odd': 5}\n"
     ]
    }
   ],
   "source": [
    "def count_even_odd(numbers):\n",
    "    counts = {\"even\": 0, \"odd\": 0}\n",
    "    for num in numbers:\n",
    "        if num % 2 == 0:\n",
    "            counts[\"even\"] += 1\n",
    "        else:\n",
    "            counts[\"odd\"] += 1\n",
    "    return counts\n",
    "\n",
    "def main():\n",
    "    numbers = [1, 2, 3, 4, 5, 6, 7, 8, 9, 10]\n",
    "    result = count_even_odd(numbers)\n",
    "    print(\"Even and Odd counts:\", result)\n",
    "\n",
    "if __name__ == \"__main__\":\n",
    "    main()\n"
   ]
  },
  {
   "cell_type": "code",
   "execution_count": 1,
   "id": "d339b500-04e1-4afd-a89e-bfd57f64378a",
   "metadata": {},
   "outputs": [
    {
     "name": "stdout",
     "output_type": "stream",
     "text": [
      "Number of rows in the CSV file: 50986\n"
     ]
    }
   ],
   "source": [
    "import csv\n",
    "\n",
    "def count_rows_in_csv(file_path):\n",
    "    try:\n",
    "        with open(file_path, 'r', encoding='utf-8') as file:\n",
    "            reader = csv.reader(file)\n",
    "            row_count = sum(1 for row in reader)\n",
    "        return row_count\n",
    "    except FileNotFoundError:\n",
    "        return f\"Error: The file '{file_path}' was not found.\"\n",
    "    except Exception as e:\n",
    "        return f\"An error occurred: {str(e)}\"\n",
    "\n",
    "def main():\n",
    "    file_path = \"sample.csv\"  # Ensure the correct file path is specified\n",
    "    row_count = count_rows_in_csv(file_path)\n",
    "    \n",
    "    # Display the result\n",
    "    if isinstance(row_count, int):\n",
    "        print(f\"Number of rows in the CSV file: {row_count}\")\n",
    "    else:\n",
    "        print(row_count)\n",
    "\n",
    "if __name__ == \"__main__\":\n",
    "    main()\n"
   ]
  },
  {
   "cell_type": "code",
   "execution_count": 2,
   "id": "d820e354-94b7-467a-8051-7aefcc8f912a",
   "metadata": {},
   "outputs": [
    {
     "name": "stdout",
     "output_type": "stream",
     "text": [
      "Extracted Emails: ['john.doe@example.com', 'jane_smith123@email.net', 'contact@company.org', 'user.name+filter@gmail.com', 'info@website.co.uk', 'support@mybusiness.io']\n"
     ]
    }
   ],
   "source": [
    "import re\n",
    "\n",
    "def extract_emails(file_path):\n",
    "    with open(file_path, 'r', encoding='utf-8') as file:\n",
    "        text = file.read()\n",
    "        emails = re.findall(r'[a-zA-Z0-9._%+-]+@[a-zA-Z0-9.-]+\\.[a-zA-Z]{2,}', text)\n",
    "        return emails\n",
    "\n",
    "def main():\n",
    "    file_path = \"emails.txt\"  \n",
    "    emails = extract_emails(file_path)\n",
    "    print(\"Extracted Emails:\", emails)\n",
    "\n",
    "if __name__ == \"__main__\":\n",
    "    main()\n"
   ]
  },
  {
   "cell_type": "code",
   "execution_count": null,
   "id": "8593d3fd-03da-4dc5-b592-f00769699b79",
   "metadata": {},
   "outputs": [],
   "source": [
    "import pandas as pd\n",
    "\n",
    "def process_salaries(input_file, output_file):\n",
    "    df = pd.read_csv(input_file)\n",
    "    print(\"Summary Statistics:\")\n",
    "    print(df.describe())\n",
    "    filtered_df = df[df['Salary'] > 50000]\n",
    "    filtered_df.to_csv(output_file, index=False)\n",
    "    \n",
    "    print(f\"Filtered results saved to {output_file}\")\n",
    "\n",
    "\n",
    "input_csv = \"employees.csv\"  \n",
    "output_csv = \"filtered_salaries.csv\"\n",
    "process_salaries(input_csv, output_csv)"
   ]
  },
  {
   "cell_type": "code",
   "execution_count": 1,
   "id": "d79b1e3a-fbde-4dbb-8eb1-597ce0caaed4",
   "metadata": {},
   "outputs": [
    {
     "name": "stdout",
     "output_type": "stream",
     "text": [
      "Summary Statistics:\n",
      "       YearsExperience         Salary\n",
      "count        30.000000      30.000000\n",
      "mean          5.313333   76003.000000\n",
      "std           2.837888   27414.429785\n",
      "min           1.100000   37731.000000\n",
      "25%           3.200000   56720.750000\n",
      "50%           4.700000   65237.000000\n",
      "75%           7.700000  100544.750000\n",
      "max          10.500000  122391.000000\n",
      "Filtered results saved to filtered_salaries.csv\n"
     ]
    }
   ],
   "source": [
    "import pandas as pd\n",
    "\n",
    "def process_salaries(input_file, output_file):\n",
    "    df = pd.read_csv(input_file)\n",
    "    print(\"Summary Statistics:\")\n",
    "    print(df.describe())\n",
    "    filtered_df = df[df['Salary'] > 50000]\n",
    "    filtered_df.to_csv(output_file, index=False)\n",
    "    \n",
    "    print(f\"Filtered results saved to {output_file}\")\n",
    "\n",
    "\n",
    "input_csv = \"Salary_Data.csv\"  \n",
    "output_csv = \"filtered_salaries.csv\"\n",
    "process_salaries(input_csv, output_csv)"
   ]
  },
  {
   "cell_type": "code",
   "execution_count": null,
   "id": "340e413e-08ec-4e1c-962e-840c5b3bd436",
   "metadata": {},
   "outputs": [],
   "source": []
  }
 ],
 "metadata": {
  "kernelspec": {
   "display_name": "Python 3 (ipykernel)",
   "language": "python",
   "name": "python3"
  },
  "language_info": {
   "codemirror_mode": {
    "name": "ipython",
    "version": 3
   },
   "file_extension": ".py",
   "mimetype": "text/x-python",
   "name": "python",
   "nbconvert_exporter": "python",
   "pygments_lexer": "ipython3",
   "version": "3.11.5"
  }
 },
 "nbformat": 4,
 "nbformat_minor": 5
}
